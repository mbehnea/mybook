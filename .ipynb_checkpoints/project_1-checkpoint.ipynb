{
 "cells": [
  {
   "cell_type": "markdown",
   "id": "24314a23-6aaa-4316-b0a1-ba52bea2a436",
   "metadata": {},
   "source": [
    "# Project 1"
   ]
  },
  {
   "cell_type": "markdown",
   "id": "11d6c2fe-cc6a-4b2d-a437-00c8addf0e73",
   "metadata": {},
   "source": [
    "Import pandas"
   ]
  },
  {
   "cell_type": "code",
   "execution_count": 1,
   "id": "998d4185-a248-49f3-8f7d-911eb858d448",
   "metadata": {},
   "outputs": [],
   "source": [
    "import pandas as pd"
   ]
  },
  {
   "cell_type": "markdown",
   "id": "733a1562-4119-49bc-8c0a-97c3fab2e649",
   "metadata": {},
   "source": [
    "Read in the data"
   ]
  },
  {
   "cell_type": "code",
   "execution_count": 4,
   "id": "ff1c5622-b3d2-4e8b-98eb-6f9fe67de50b",
   "metadata": {},
   "outputs": [],
   "source": [
    "file_path = 'Air_Quality.csv'\n",
    "data = pd.read_csv(file_path)"
   ]
  },
  {
   "cell_type": "markdown",
   "id": "c2c13ed7-8460-4dad-a9af-9d944df258c0",
   "metadata": {},
   "source": [
    "Calculate the mean of the column \"Data Value\""
   ]
  },
  {
   "cell_type": "code",
   "execution_count": 5,
   "id": "433c5e90-579a-4827-82fc-cd730303d11b",
   "metadata": {},
   "outputs": [
    {
     "name": "stdout",
     "output_type": "stream",
     "text": [
      "The mean of Data Value is: 21.428615811373092\n"
     ]
    }
   ],
   "source": [
    "mean_dv = data['Data Value'].mean()\n",
    "print(\"The mean of Data Value is:\", mean_dv)\n"
   ]
  },
  {
   "cell_type": "markdown",
   "id": "bc35e5f7-f6a2-4a5a-8a6b-744e71e4bb7b",
   "metadata": {},
   "source": [
    "Calculate the median of the column \"Data Value\""
   ]
  },
  {
   "cell_type": "code",
   "execution_count": 6,
   "id": "699b6b4d-3d7f-414a-8d69-ca74dd5e463e",
   "metadata": {},
   "outputs": [
    {
     "name": "stdout",
     "output_type": "stream",
     "text": [
      "The median of the Data Value is: 15.2\n"
     ]
    }
   ],
   "source": [
    "median_dv = data['Data Value'].median()\n",
    "print(\"The median of the Data Value is:\", median_dv)\n"
   ]
  },
  {
   "cell_type": "markdown",
   "id": "64f9c966-7c4f-41c6-878d-1d1cc3a93213",
   "metadata": {},
   "source": [
    "Calculate the mode of the column \"Data Value\""
   ]
  },
  {
   "cell_type": "code",
   "execution_count": 9,
   "id": "d8d8a445-65fe-44e5-ab64-39d9197db2b7",
   "metadata": {},
   "outputs": [
    {
     "name": "stdout",
     "output_type": "stream",
     "text": [
      "The mode of the Data Value is: 8.3\n"
     ]
    }
   ],
   "source": [
    "mode_dv = data['Data Value'].mode()[0] \n",
    "print(\"The mode of the Data Value is:\", mode_dv)"
   ]
  },
  {
   "cell_type": "markdown",
   "id": "3d803251-e4c0-44a2-aeb4-ef579ce7a389",
   "metadata": {},
   "source": [
    "Repeat the previous step using only the Python standard library"
   ]
  },
  {
   "cell_type": "markdown",
   "id": "9d97f112-21b1-4450-957e-d2b9b9d8f0f9",
   "metadata": {},
   "source": [
    "Import file"
   ]
  },
  {
   "cell_type": "code",
   "execution_count": 8,
   "id": "be3ce53c-acb5-47e2-9960-f546f2cb4887",
   "metadata": {},
   "outputs": [],
   "source": [
    "import csv"
   ]
  },
  {
   "cell_type": "markdown",
   "id": "be504d4c-2322-499b-84e6-554a12c168ec",
   "metadata": {},
   "source": [
    "Import Stats"
   ]
  },
  {
   "cell_type": "code",
   "execution_count": 9,
   "id": "1e9ed5ff-fee7-48af-8539-a5d76b7f25cf",
   "metadata": {},
   "outputs": [],
   "source": [
    "from statistics import mean, median, mode"
   ]
  },
  {
   "cell_type": "markdown",
   "id": "83c81ec4-b15d-4393-98bc-dcb8ee694b0d",
   "metadata": {},
   "source": [
    "Read in the data"
   ]
  },
  {
   "cell_type": "code",
   "execution_count": 10,
   "id": "84a2bb7f-8146-4af7-a3f5-638b1e9c2216",
   "metadata": {},
   "outputs": [],
   "source": [
    "data_values = []"
   ]
  },
  {
   "cell_type": "markdown",
   "id": "28414b24-a72b-4374-abaa-61cbc94bbbe8",
   "metadata": {},
   "source": [
    "Analyse data in \"Data Value\" Column, convert to floats"
   ]
  },
  {
   "cell_type": "code",
   "execution_count": 11,
   "id": "15192ace-85a6-4f49-b4fa-72a853e43afb",
   "metadata": {},
   "outputs": [],
   "source": [
    "with open('Air_Quality.csv', mode='r') as file:\n",
    "    reader = csv.DictReader(file)  \n",
    "    for row in reader:\n",
    "        if row['Data Value']:  \n",
    "            data_values.append(float(row['Data Value'])) "
   ]
  },
  {
   "cell_type": "markdown",
   "id": "fbf6ac47-ed11-457d-baa3-7efbc6336557",
   "metadata": {},
   "source": [
    "Calculate the mean of the column \"Data Value\""
   ]
  },
  {
   "cell_type": "code",
   "execution_count": 58,
   "id": "c9debfe5-d375-4239-a9df-ef3557c376cb",
   "metadata": {},
   "outputs": [
    {
     "name": "stdout",
     "output_type": "stream",
     "text": [
      "The mean of Data Value is: 21.428615811373092\n"
     ]
    }
   ],
   "source": [
    "mean_datavalue = mean(data_values) \n",
    "print(\"The mean of Data Value is:\", mean_datavalue)"
   ]
  },
  {
   "cell_type": "markdown",
   "id": "db8cd107-3c41-477e-91d4-7d42762285d8",
   "metadata": {},
   "source": [
    "Calculate the median of the column \"Data Value\""
   ]
  },
  {
   "cell_type": "code",
   "execution_count": 13,
   "id": "f9deb079-9764-4250-9f75-0e202931e502",
   "metadata": {},
   "outputs": [
    {
     "name": "stdout",
     "output_type": "stream",
     "text": [
      "The median of the Data Value is: 15.2\n"
     ]
    }
   ],
   "source": [
    "median_datavalue = median(data_values)  \n",
    "print(\"The median of the Data Value is:\", median_datavalue)"
   ]
  },
  {
   "cell_type": "markdown",
   "id": "9d9a66f0-af74-464d-bbf9-1b62a444535f",
   "metadata": {},
   "source": [
    "Calculate the mode of the column \"Data Value\""
   ]
  },
  {
   "cell_type": "code",
   "execution_count": 15,
   "id": "6fb8fc1d-f43a-4cb6-b666-752a89177bec",
   "metadata": {},
   "outputs": [
    {
     "name": "stdout",
     "output_type": "stream",
     "text": [
      "The mode of the Data Value is: 8.3\n"
     ]
    }
   ],
   "source": [
    "mode_datavalue = mode(data_values) \n",
    "print(\"The mode of the Data Value is:\", mode_datavalue)"
   ]
  },
  {
   "cell_type": "markdown",
   "id": "46000ce3-ff1d-47ee-8745-8787fb4822cb",
   "metadata": {},
   "source": [
    "Data visualization"
   ]
  },
  {
   "cell_type": "code",
   "execution_count": 71,
   "id": "5adbad2d-1a99-4f49-ac4a-6291bf74872a",
   "metadata": {},
   "outputs": [],
   "source": [
    "import numpy as np\n",
    "\n",
    "year2021 = []  \n",
    "with open('Air_Quality.csv', mode='r') as file:\n",
    "    reader = csv.DictReader(file)  \n",
    "    for row in reader:\n",
    "        if '2021' in row['Time Period'] and row['Data Value']:\n",
    "            try:\n",
    "                year2021.append({\n",
    "                    'Name': row['Name'],\n",
    "                    'Data Value': float(row['Data Value'])  \n",
    "                })\n",
    "            except ValueError:\n",
    "                continue  "
   ]
  },
  {
   "cell_type": "markdown",
   "id": "7977273d-210e-449d-889c-2c5b1fa9d625",
   "metadata": {},
   "source": [
    "group by type of emission"
   ]
  },
  {
   "cell_type": "code",
   "execution_count": 72,
   "id": "fd90b4da-c8ec-4bc4-97b9-9cf4712eab4e",
   "metadata": {},
   "outputs": [],
   "source": [
    "emtype = {}\n",
    "\n",
    "for entry in year2021:\n",
    "    name = entry['Name']\n",
    "    data_value = entry['Data Value']\n",
    "    \n",
    "    if name not in emtype:\n",
    "        emtype[name] = []\n",
    "    emtype[name].append(data_value)"
   ]
  },
  {
   "cell_type": "markdown",
   "id": "ad0ceb5e-0bb7-44a7-b929-e6187b17f499",
   "metadata": {},
   "source": [
    "Calculate mean of emission type"
   ]
  },
  {
   "cell_type": "code",
   "execution_count": 73,
   "id": "f22f3814-58d8-45d1-94d8-cb38007e6232",
   "metadata": {},
   "outputs": [],
   "source": [
    "avemissions = {name: np.mean(values) for name, values in emtype.items()}\n"
   ]
  },
  {
   "cell_type": "markdown",
   "id": "f0c787fa-02e1-4be9-ba78-75d668166541",
   "metadata": {},
   "source": [
    "Create sparkline (1 every 10 units)"
   ]
  },
  {
   "cell_type": "code",
   "execution_count": 74,
   "id": "97419400-e49f-475c-9441-b72b7ac2e24d",
   "metadata": {},
   "outputs": [],
   "source": [
    "sparkline_data = {name: round(average / 10) for name, average in avemissions.items()}\n"
   ]
  },
  {
   "cell_type": "markdown",
   "id": "19df9503-ac71-45e5-8404-a654bb7ba4b5",
   "metadata": {},
   "source": [
    "Print"
   ]
  },
  {
   "cell_type": "code",
   "execution_count": 75,
   "id": "1ab9300b-e5c0-4bdc-b9b2-7843bd4614c6",
   "metadata": {},
   "outputs": [
    {
     "name": "stdout",
     "output_type": "stream",
     "text": [
      "Emission Type                            Average Emissions (tons) Sparkline           \n",
      "--------------------------------------------------------------------------------\n",
      "Fine particles (PM 2.5)                  7.49                 *                   \n",
      "Nitrogen dioxide (NO2)                   16.99                **                  \n",
      "Ozone (O3)                               29.74                ***                 \n"
     ]
    }
   ],
   "source": [
    "print(f\"{'Emission Type':<40} {'Average Emissions (tons)':<20} {'Sparkline':<20}\")\n",
    "print(\"-\" * 80)\n",
    "\n",
    "for name, average in avemissions.items():\n",
    "    sparkline = '*' * sparkline_data[name]\n",
    "    print(f\"{name:<40} {average:<20.2f} {sparkline:<20}\")"
   ]
  }
 ],
 "metadata": {
  "kernelspec": {
   "display_name": "Python 3 (ipykernel)",
   "language": "python",
   "name": "python3"
  },
  "language_info": {
   "codemirror_mode": {
    "name": "ipython",
    "version": 3
   },
   "file_extension": ".py",
   "mimetype": "text/x-python",
   "name": "python",
   "nbconvert_exporter": "python",
   "pygments_lexer": "ipython3",
   "version": "3.12.4"
  }
 },
 "nbformat": 4,
 "nbformat_minor": 5
}
